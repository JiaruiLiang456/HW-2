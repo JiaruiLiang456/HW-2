{
 "cells": [
  {
   "cell_type": "markdown",
   "id": "14b74968",
   "metadata": {},
   "source": [
    "## STA130 Homework 02\n",
    "\n",
    "Please see the course [wiki-textbook](https://github.com/pointOfive/stat130chat130/wiki) for the list of topics covered in this homework assignment, and a list of topics that might appear during ChatBot conversations which are \"out of scope\" for the purposes of this homework assignment (and hence can be safely ignored if encountered)"
   ]
  },
  {
   "cell_type": "markdown",
   "id": "f014006ff8809433",
   "metadata": {},
   "source": [
    "<details class=\"details-example\"><summary style=\"color:blue\"><u>Introduction</u></summary>\n",
    "\n",
    "### Introduction\n",
    "    \n",
    "A reasonable characterization of STA130 Homework is that it simply defines a weekly reading comprehension assignment. \n",
    "Indeed, STA130 Homework essentially boils down to completing various understanding confirmation exercises oriented around coding and writing tasks.\n",
    "However, rather than reading a textbook, STA130 Homework is based on ChatBots so students can interactively follow up to clarify questions or confusion that they may still have regarding learning objective assignments.\n",
    "\n",
    "> Communication is a fundamental skill underlying statistics and data science, so STA130 Homework based on ChatBots helps practice effective two-way communication as part of a \"realistic\" dialogue activity supporting underlying conceptual understanding building. \n",
    "\n",
    "It will likely become increasingly tempting to rely on ChatBots to \"do the work for you\". But when you find yourself frustrated with a ChatBots inability to give you the results you're looking for, this is a \"hint\" that you've become overreliant on the ChatBots. Your objective should not be to have ChatBots \"do the work for you\", but to use ChatBots to help you build your understanding so you can efficiently leverage ChatBots (and other resources) to help you work more efficiently.<br><br>\n",
    "\n",
    "</details>\n",
    "\n",
    "<details class=\"details-example\"><summary style=\"color:blue\"><u>Instructions</u></summary>\n",
    "\n",
    "### Instructions\n",
    "    \n",
    "1. Code and write all your answers (for both the \"Prelecture\" and \"Postlecture\" HW) in a python notebook (in code and markdown cells) \n",
    "    \n",
    "> It is *suggested but not mandatory* that you complete the \"Prelecture\" HW prior to the Monday LEC since (a) all HW is due at the same time; but, (b) completing some of the HW early will mean better readiness for LEC and less of a \"procrastentation cruch\" towards the end of the week...\n",
    "    \n",
    "2. Paste summaries of your ChatBot sessions (including link(s) to chat log histories if you're using ChatGPT) within your notebook\n",
    "    \n",
    "> Create summaries of your ChatBot sessions by using concluding prompts such as \"Please provide a summary of our exchanges here so I can submit them as a record of our interactions as part of a homework assignment\" or, \"Please provide me with the final working verson of the code that we created together\"\n",
    "    \n",
    "3. Save your python jupyter notebook in your own account and \"repo\" on [github.com](github.com) and submit a link to that notebook though Quercus for assignment marking<br><br>\n",
    "\n",
    "</details>\n",
    "\n",
    "<details class=\"details-example\"><summary style=\"color:blue\"><u>Prompt Engineering?</u></summary>\n",
    "    \n",
    "### Prompt Engineering? \n",
    "    \n",
    "The questions (as copy-pasted prompts) are designed to initialize appropriate ChatBot conversations which can be explored in the manner of an interactive and dynamic textbook; but, it is nonetheless **strongly recommendated** that your rephrase the questions in a way that you find natural to ensure a clear understanding of the question. Given sensible prompts the represent a question well, the two primary challenges observed to arise from ChatBots are \n",
    "\n",
    "1. conversations going beyond the intended scope of the material addressed by the question; and, \n",
    "2. unrecoverable confusion as a result of sequential layers logial inquiry that cannot be resolved. \n",
    "\n",
    "In the case of the former (1), adding constraints specifying the limits of considerations of interest tends to be helpful; whereas, the latter (2) is often the result of initial prompting that leads to poor developments in navigating the material, which are likely just best resolve by a \"hard reset\" with a new initial approach to prompting.  Indeed, this is exactly the behavior [hardcoded into copilot](https://answers.microsoft.com/en-us/bing/forum/all/is-this-even-normal/0b6dcab3-7d6c-4373-8efe-d74158af3c00)...\n",
    "\n",
    "</details>"
   ]
  },
  {
   "cell_type": "markdown",
   "id": "161fd459",
   "metadata": {},
   "source": [
    "\n",
    "### Marking Rubric (which may award partial credit) \n",
    "\n",
    "- [0.1 points]: All relevant ChatBot summaries [including link(s) to chat log histories if you're using ChatGPT] are reported within the notebook\n",
    "- [0.3 points]: Assignment completion confirmed by working \"final\" code and ChatBot summaries for \"3\"\n",
    "- [0.3 points]: Written submission evaluation and enagement confirmation with ChatBot summaries for \"6\"\n",
    "- [0.3 points]: Evaluation of engagement and evaluation of written communication in \"7\"\n",
    "        "
   ]
  },
  {
   "cell_type": "markdown",
   "id": "f7ff3f55",
   "metadata": {},
   "source": [
    "### \"Pre-lecture\" HW [*completion prior to next LEC is suggested but not mandatory*]"
   ]
  },
  {
   "cell_type": "markdown",
   "id": "fda8568b",
   "metadata": {},
   "source": [
    "#### 1. Begin (or restart) part \"3(a)\" of the **TUT Demo** and interact with a ChatBot to make sure you understand how each part the Monte Hall problem code above works<br>\n",
    "\n",
    "<details class=\"details-example\"><summary style=\"color:blue\"><u>Further Guidance</u></summary>\n",
    "    \n",
    "> _ChatBots typically explain code fairly effectively, so a ChatBot will probably be very helpful if you share the full Monte Hall problem code; but, you can always introduce more specific and targetted follow-up prompts that help with focus, re-redirection, and response format regarding the ChatBot responses as needed._ \n",
    ">\n",
    "> _ChatBots won't always re-introduce and re-explain the Monte Hall problem itself, so if you need it to do so you may need to specifically request this as part of your prompt or follow up interactions._\n",
    "\n",
    "</details>\n"
   ]
  },
  {
   "cell_type": "code",
   "execution_count": null,
   "id": "87352c24",
   "metadata": {},
   "outputs": [],
   "source": [
    "#Initial Setup\n",
    "import numpy as np\n",
    "all_door_options = (1, 2, 3)  # possible doors: 1, 2, and 3\n",
    "my_door_choice = 1  # initially choosing door 1\n",
    "i_won = 0  # counter for wins\n",
    "reps = 100000  # number of simulations\n",
    "#Simulation Loop\n",
    "for i in range(reps):\n",
    "    secret_winning_door = np.random.choice(all_door_options)  # Randomly select the winning door\n",
    "#all_door_options_list = list(all_door_options)\n",
    "    all_door_options_list.remove(secret_winning_door)  # Remove the winning door from the list\n",
    "#Dooe Management\n",
    "    all_door_options_list = list(all_door_options)\n",
    "    all_door_options_list.remove(secret_winning_door)  # Remove the winning door from the list\n",
    "#Revealing a Goat Door   \n",
    " try:\n",
    "        all_door_options_list.remove(my_door_choice)  # Attempt to remove the player's choice\n",
    "except:\n",
    "        pass\n",
    "#Show a Losing Door\n",
    "        goat_door_reveal = np.random.choice(all_door_options_list)  # Randomly choose a losing door to reveal\n",
    "        all_door_options_list.remove(goat_door_reveal)  # Remove the revealed losing door\n",
    "#Update the Choices\n",
    "    if secret_winning_door != my_door_choice:\n",
    "        all_door_options_list.append(secret_winning_door)  # If the winning door was not chosen, add it back\n",
    "#Implementing the Swap Strategy\n",
    "    my_door_choice = all_door_options_list[0]  # The player swaps to the only remaining door\n",
    "#Check for a Win\n",
    "    if my_door_choice == secret_winning_door:\n",
    "        i_won += 1  # Increment win counter if the player’s choice matches the winning door\n",
    "#Calculate the Winning Probability\n",
    "        i_won/reps  # This will give the proportion of wins out of total simulations\n"
   ]
  },
  {
   "cell_type": "markdown",
   "id": "5499f165",
   "metadata": {},
   "source": [
    "# Summary of Interaction:\n",
    "Initial Code Explanation: You shared a Python code that simulates the Monty Hall problem, a classic probability puzzle. The code simulates a game show where a contestant picks one of three doors, after which the host reveals a \"goat\" behind one of the remaining doors. The contestant is then given a chance to switch their door choice. The simulation tests whether switching doors increases the chances of winning.\n",
    "Step-by-Step Walkthrough of the Code: I provided a detailed explanation of the Python code, focusing on how each part works in the context of the Monty Hall problem:\n",
    "Variable Initialization: The doors and initial setup were explained, including how the contestant picks a door and how the game is repeated over 100,000 simulations.\n",
    "Secret Winning Door Selection: How a random door is chosen as the \"winning\" door, hiding the car.\n",
    "Removing Doors: Explanation of how non-winning doors are removed from the list to simulate Monty’s actions.\n",
    "Monty’s Reveal: How Monty reveals a goat door and removes it from the remaining doors.\n",
    "Switching Strategy: How the contestant switches to the remaining door (the \"always switch\" strategy).\n",
    "Outcome Calculation: How the program calculates and tracks the wins and computes the final success rate of the switching strategy.\n",
    "Key Insights:\n",
    "We concluded that the simulation demonstrates the Monty Hall problem's well-known result: always switching doors increases the chance of winning to 2/3, as confirmed by the simulation's win rate.\n"
   ]
  },
  {
   "cell_type": "markdown",
   "id": "7c775a18",
   "metadata": {},
   "source": [
    "# Link\n",
    "https://chatgpt.com/share/66eb5ee5-9b58-800f-8366-c34cd5a2e0c6"
   ]
  },
  {
   "cell_type": "markdown",
   "id": "11581881",
   "metadata": {},
   "source": [
    "#### 2. Extend your ChatBot sessions to now address part \"3(b)\" of the **TUT Demo** and interact with your ChatBot to see if it can suggest a simpler, more streamlined way to code up this *for* loop simulation so the process is more clear and easier to understand; then, describe any preferences you have in terms of readibility or explainability  between the original code and the code improvements suggested by the ChatBot<br>\n",
    "\n",
    "<details class=\"details-example\"><summary style=\"color:blue\"><u>Further Guidance</u></summary>\n",
    "    \n",
    "> _The links in the TUT Demo show that there can be variation in the quality of the code improvements suggested by ChatBots; however, it's most likely that a ChatBot is going to be able to greatly reduce the number of steps/lines of code and hence complexity of understanding the problem. ChatBots can provide a good amount of explanation and inline clarifying code comments and provide more simpler more intuitive code that can transform something that looks a bit scary at first to something that's easy to follow and make sense of. Of course, in doing so, a ChatBot may introduce functions that you've technically not learned or seen before; but, the amount of simplification and clarifying comments is probably going to more than compensate for this; and, you'll have seen a learned a little bit more about what's possible through this process, which is the ideal experience we're hoping you'll see here._ \n",
    "    \n",
    "</details>\n",
    "        "
   ]
  },
  {
   "cell_type": "code",
   "execution_count": null,
   "id": "b3233db2",
   "metadata": {},
   "outputs": [],
   "source": [
    "import numpy as np\n",
    "\n",
    "def simulate_monty_hall(reps):\n",
    "    wins = 0\n",
    "\n",
    "    for _ in range(reps):\n",
    "        # Step 1: Randomly select the winning door\n",
    "        winning_door = np.random.randint(1, 4)  # Randomly choose 1, 2, or 3\n",
    "        # Step 2: Player makes an initial choice\n",
    "        player_choice = 1  # Fixed choice for simplicity (you can make this random if needed)\n",
    "\n",
    "        # Step 3: Determine the remaining doors\n",
    "        doors = [1, 2, 3]\n",
    "        doors.remove(winning_door)  # Remove the winning door\n",
    "        if player_choice in doors:\n",
    "            doors.remove(player_choice)  # Remove the player's choice\n",
    "\n",
    "        # Step 4: Reveal a goat door\n",
    "        revealed_door = np.random.choice(doors)  # Randomly select one remaining door to reveal\n",
    "\n",
    "        # Step 5: Determine the final choice by switching\n",
    "        final_choice = 6 - player_choice - revealed_door  # The only door left\n",
    "\n",
    "        # Step 6: Check if the final choice is the winning door\n",
    "        if final_choice == winning_door:\n",
    "            wins += 1\n",
    "\n",
    "    return wins / reps  # Return the proportion of wins\n",
    "\n",
    "# Run the simulation\n",
    "reps = 100000\n",
    "winning_probability = simulate_monty_hall(reps)\n",
    "print(f\"Probability of winning by switching: {winning_probability:.4f}\")\n"
   ]
  },
  {
   "cell_type": "markdown",
   "id": "357f49b7",
   "metadata": {},
   "source": [
    "There are three main aspects to let the code become simplier. First, it choose the initial choice as 1 directly instead of randomly. Secondly, it deleate the winning door and player's initial choice to make the list clear. Last, it uses a formula: 6-player's choice-revealed door, which gives the door that the player didn't choose."
   ]
  },
  {
   "cell_type": "markdown",
   "id": "983d1773",
   "metadata": {},
   "source": [
    "# Summary of Interactions:\n",
    "Initial Code for Monty Hall Simulation: You shared a Python code to simulate the Monty Hall problem, where a contestant initially picks a door and then has the option to switch after a \"goat\" door is revealed. The code runs for 100,000 repetitions, and the contestant always initially selects door 1.\n",
    "Request for Simplification: You asked for a simplified version of the Monty Hall simulation code, specifically aiming to make the process clearer while maintaining the same logic.\n",
    "Simplified Code: I provided a more straightforward version of the Monty Hall simulation, focusing on:\n",
    "Using list comprehensions to find remaining doors and determine Monty’s reveal.\n",
    "Directly switching the contestant’s choice to the other unopened door.\n",
    "Removing unnecessary steps like try-except blocks and door removal/appending."
   ]
  },
  {
   "cell_type": "markdown",
   "id": "52996876",
   "metadata": {},
   "source": [
    "# Link\n",
    "https://chatgpt.com/share/66eb6014-e56c-800f-9e1b-0fd1b4b0b9be"
   ]
  },
  {
   "cell_type": "markdown",
   "id": "f3fdebd8",
   "metadata": {},
   "source": [
    "#### 3. Submit your preferred version of the Monty Hall problem that is verified to be running and working with a final printed output of the code; then, add code comments explaining the purpose of each line of the code<br>\n",
    "\n",
    "<details class=\"details-example\"><summary style=\"color:blue\"><u>Further Guidance</u></summary>\n",
    "    \n",
    "> _Your ChatBot will likely do much of this for you, but verify for yourself that you understand each comment and reword comments wherever you think it would be better to explain it differently._\n",
    ">\n",
    "> _Remember to ask for summaries of your current session and paste these into your homework notebook  (including link(s) to chat log histories if you're using ChatGPT)_\n",
    "\n",
    "</details>\n",
    " "
   ]
  },
  {
   "cell_type": "code",
   "execution_count": null,
   "id": "1846d812",
   "metadata": {},
   "outputs": [],
   "source": [
    "import numpy as np\n",
    "\n",
    "def simulate_monty_hall(reps):\n",
    "    wins = 0\n",
    "\n",
    "    for _ in range(reps):\n",
    "        # Step 1: Randomly select the winning door\n",
    "        winning_door = np.random.randint(1, 4)  # Randomly choose 1, 2, or 3\n",
    "        # Step 2: Player makes an initial choice\n",
    "        player_choice = 1  # Fixed choice for simplicity (you can make this random if needed)\n",
    "\n",
    "        # Step 3: Determine the remaining doors\n",
    "        doors = [1, 2, 3]\n",
    "        doors.remove(winning_door)  # Remove the winning door\n",
    "        if player_choice in doors:\n",
    "            doors.remove(player_choice)  # Remove the player's choice\n",
    "\n",
    "        # Step 4: Reveal a goat door\n",
    "        revealed_door = np.random.choice(doors)  # Randomly select one remaining door to reveal\n",
    "\n",
    "        # Step 5: Determine the final choice by switching\n",
    "        final_choice = 6 - player_choice - revealed_door  # The only door left\n",
    "\n",
    "        # Step 6: Check if the final choice is the winning door\n",
    "        if final_choice == winning_door:\n",
    "            wins += 1\n",
    "\n",
    "    return wins / reps  # Return the proportion of wins\n",
    "\n",
    "# Run the simulation\n",
    "reps = 100000\n",
    "winning_probability = simulate_monty_hall(reps)\n",
    "print(f\"Probability of winning by switching: {winning_probability:.4f}\")"
   ]
  },
  {
   "cell_type": "markdown",
   "id": "db9d0fa4",
   "metadata": {},
   "source": [
    "# Summary of Interactions:\n",
    "Initial Code for Monty Hall Simulation: You shared a Python code to simulate the Monty Hall problem, where a contestant initially picks a door and then has the option to switch after a \"goat\" door is revealed. The code runs for 100,000 repetitions, and the contestant always initially selects door 1.\n",
    "Request for Simplification: You asked for a simplified version of the Monty Hall simulation code, specifically aiming to make the process clearer while maintaining the same logic.\n",
    "Simplified Code: I provided a more straightforward version of the Monty Hall simulation, focusing on:\n",
    "Using list comprehensions to find remaining doors and determine Monty’s reveal.\n",
    "Directly switching the contestant’s choice to the other unopened door.\n",
    "Removing unnecessary steps like try-except blocks and door removal/appending."
   ]
  },
  {
   "cell_type": "markdown",
   "id": "8ba3ff01",
   "metadata": {},
   "source": [
    "#### 4. Watch the embedded video tutorial on Markov chains in the next Jupyter cell below to understand their application and relevance for ChatBots; then, after watching the video, start a new ChatBot session by prompting that you have code that creates a \"Markovian ChatBot\"; show it the first version of the \"Markovian ChatBot code\" below; and interact with the ChatBot session to make sure you understand how the original first version of the \"Markovian ChatBot code\" works<br>\n",
    "\n",
    "<details class=\"details-example\"><summary style=\"color:blue\"><u>Further Guidance</u></summary>\n",
    "\n",
    "> _If the ChatBot prompts you as to how you will \"train\" your own \"Markovian ChatBot\" you can reply that you'll just use a series of stories with a lot of different characters_\n",
    "> \n",
    "> _Ask for summaries of this second ChatBot session and paste these into your homework notebook (including link(s) to chat log histories if you're using ChatGPT)_\n",
    "    \n",
    "</details>\n",
    "    "
   ]
  },
  {
   "cell_type": "code",
   "execution_count": null,
   "id": "f7566d88",
   "metadata": {},
   "outputs": [],
   "source": [
    "# Markovian Chatbot\n",
    "\n",
    "# from collections import defaultdict\n",
    "word_used = dict() # defaultdict(int)\n",
    "next_word = dict() # defaultdict(lambda: defaultdict(int))\n",
    "\n",
    "#This line starts a loop over the list words, using enumerate to get both the index (i) and the word itself. The slicing [:-1] means it will iterate over all words except the last one. This is because the goal is to analyze the next word that follows each current word.\n",
    "for i,word in enumerate(words[:-1]):\n",
    "\n",
    "#This block checks if the current word is already in the word_used dictionary.\n",
    "#If it is, it increments its count by 1.\n",
    "#If it’s not, it initializes its count to 1 and also sets up an empty dictionary for that word in next_word, which will eventually hold counts of words that follow it.\n",
    "    if word in word_used:\n",
    "        word_used[word] += 1\n",
    "    else:\n",
    "        word_used[word] = 1\n",
    "        next_word[word] = {}\n",
    "\n",
    "#This block checks the next word (words[i + 1]).\n",
    "#If this next word is already a key in the inner dictionary for the current word, it increments its count.\n",
    "#If it isn’t, it initializes the count for that next word to 1.\n",
    "    if words[i+1] in next_word[word]:\n",
    "        next_word[word][words[i+1]] += 1\n",
    "    else:\n",
    "        next_word[word][words[i+1]] = 1"
   ]
  },
  {
   "cell_type": "code",
   "execution_count": null,
   "id": "a52754504a625b36",
   "metadata": {},
   "outputs": [],
   "source": [
    "# Markov Chains and Text Generation\n",
    "from IPython.display import YouTubeVideo\n",
    "YouTubeVideo('56mGTszb_iM', width = 550)"
   ]
  },
  {
   "cell_type": "markdown",
   "id": "1f716d26",
   "metadata": {},
   "source": [
    "# Summary of Q4\n",
    "In this session, we analyzed a Python code snippet that counts word occurrences and tracks which words follow others in a list.\n",
    "\n",
    "Initialization: Two dictionaries, word_used and next_word, are created to store the count of each unique word and the counts of words that follow each word, respectively.\n",
    "Looping Through Words: The code iterates through the list of words (except the last one) using an index-based loop.\n",
    "Counting Logic:\n",
    "For each word, it updates its count in word_used.\n",
    "It then checks the next word and updates its count in the corresponding dictionary within next_word."
   ]
  },
  {
   "cell_type": "markdown",
   "id": "922b69ae",
   "metadata": {},
   "source": [
    "# Link\n",
    "https://chatgpt.com/share/66eb6238-80b0-800f-9585-3e9e89857a15"
   ]
  },
  {
   "cell_type": "markdown",
   "id": "7a17e608",
   "metadata": {},
   "source": [
    "<details class=\"details-example\"><summary style=\"color:blue\"><u>Continue now...?</u></summary>\n",
    "\n",
    "### Pre-lecture VS Post-lecture HW\n",
    "\n",
    "Feel free to work on the \"Post-lecture\" HW below if you're making good progress and want to continue: for **HW 02** continuing could be reasonable because questions \"5-7\" below directly follow up and extend \"Pre-lecture\" HW question \"4\"\n",
    "\n",
    "*The benefits of continue would are that (a) it might be fun to try to tackle the challenge of working through some problems without additional preparation or guidance; and (b) this is a very valable skill to be comfortable with; and (c) it will let you build experience interacting with ChatBots (and beginning to understand their strengths and limitations in this regard)... it's good to have sense of when using a ChatBot is the best way to figure something out, or if another approach (such as course provided resources or a plain old websearch for the right resourse) would be more effective*\n",
    "    \n",
    "</details>    "
   ]
  },
  {
   "cell_type": "markdown",
   "id": "d6ae0a64",
   "metadata": {},
   "source": [
    "### \"Post-lecture\" HW [*submission along with \"Pre-lecture\" HW is due prior to next TUT*]"
   ]
  },
  {
   "cell_type": "markdown",
   "id": "a3979c94",
   "metadata": {},
   "source": [
    "#### 5. Recreate (or resume) the previous ChatBot session from question \"4\" above, and now  prompt the ChatBot session that you have a couple extensions of the code to show it, and then show it each of the extentions of the \"Markovian ChatBot code\" below in turn\n",
    "\n",
    "\n",
    "\n",
    "1. Without just supplying your ChatBot session with the answers, see if the ChatBot can figure out what the extensions in the code do; namely, making character specific Markov chains, and using bigrams (rather than just the previous word alone) dependency... prompt your ChatBot session with some hints if it's not seeming to \"get it\"<br><br>\n",
    "    \n",
    "2. Interact with your ChatBot session to have it explain details of the code wherever you need help understanding what the code is doing and how it works<br><br>\n",
    "    \n",
    "3. Start yet another new ChatBot session and first show the ChatBot the original \"Markovian ChatBot code\" below, and then tell ChatBot that you have an extension but this time just directly provide it the more complicated final extension without ever providing the intermediate extension code to the ChatBot session and see if it's still able to understand everything extension does; namely, making character specific Markov chains, and using bigrams (rather than just the previous word alone) dependency... prompt the ChatBot with some hints if it's not seeming to understand what you're getting at...<br><br>\n",
    "    \n",
    "<details class=\"details-example\"><summary style=\"color:blue\"><u>Further Guidance</u></summary>\n",
    "\n",
    "> **ALERT: Time Warning**. Regarding the comments below (which will likely be relevant and useful for you), you might find the potential learning experience that this provides to be a quite the rabbit total rabbit hole and time sink. You might end up finding out that you spent way more time than I should on learning the code!! So be mindful of your time management as there is much to do for many classes!\n",
    ">    \n",
    "> _As you may or may not have already experienced in the previous problem, a ChatBot applied to this problem is likely to start explaining a bit more knowledge about Python than you need to know (as a student just trying to learn stats+DS); however, you'll probably feel like this \"out of scope\" context information is helpful to know (or at least be aware of) and easy to understand and learn if you use some addtional prompts to dig deeper into them. A ChatBot will be quite good at explaining and helping understand smaller chunks of code; however, if given too much information at once it can gloss over some information._\n",
    ">   \n",
    "> _That said, some topics here are potentially quite and advanced and too tricky! You might be able to ask the ChatBot to simplify its explanations and that might help a bit. But on the other hand, some topics, such as, \"how does `nested_dict = lambda: defaultdict(nested_dict)` work?\" might just simply be too advanced to really admit a simpler explanation via a ChatBot. You'll have to let these sorts of things go, if you come across explanations that just aren't improving or helping at at. In the case of `defaultdict(nested_dict)` specifically, the details here are well beyond the scope of STA130 and can be very safely ignored for now. The code will have reviewed and \"walked thorugh\" in LEC, but the perspectives espoused there will be the extent of the formal commentary and information regarding the coding topics we encounter in the Markov ChatBots code here._\n",
    ">     \n",
    "> _Unlike with the Monte Hall problem, we will not inquire with the ChatBot to see if it can suggest any streamlining, readability, or usability improvements to the alternative versions of the \"Markovian ChatBot code\" we're examining_\n",
    ">     \n",
    "> - _because doing so seems to result in the attempted creation of dubiously functional modular code with a focus on reusability (which is likely a result of ChatBot design being primarily a \"computer science\" topic), so ChatBot reponses here tend to orient around programming and system design principles (despite \"Markovian\" very much being a \"statistics\" topic)_\n",
    ">     \n",
    "> _Programming and system design principles are beyond the scope of STA130; but, they are critical for modern data science careers... if you are interested in pursuing a data science career, it is imperitive that you complete courses like CSC263, CSC373, and perhaps an additional \"systems design\" course_\n",
    "> \n",
    "> ---\n",
    "> \n",
    "> _Don't forget to ask for summaries of all your different ChatBot sessions and organize and paste these into your homework notebook (including link(s) to chat log histories if you're using ChatBot)_\n",
    "    \n",
    "</details>\n",
    "     "
   ]
  },
  {
   "cell_type": "markdown",
   "id": "aa86b318",
   "metadata": {},
   "source": [
    "# Q5-1\n",
    "ChatBot can understand what the extensions in the code do:\n",
    "It says the code you provided is part of a simple Markov chain model for generating text. Here’s a breakdown of what each part does:\n",
    "\n",
    "word_used2 = defaultdict(int): This creates a defaultdict from the collections module that defaults to integer values. It's used to keep track of how many times a particular pair of words (a bigram) has been used.\n",
    "\n",
    "next_word2 = defaultdict(lambda: defaultdict(int)): This creates a nested defaultdict. The outer defaultdict's keys are bigrams (pairs of words), and its values are another defaultdict that defaults to integers. This inner defaultdict keeps track of how many times each word follows a given bigram.\n",
    "\n",
    "for i, word in enumerate(words[:-2]): This iterates over the words list, excluding the last two words. The enumerate function provides both the index (i) and the word at that index.\n",
    "\n",
    "word_used2[word+' '+words[i+1]] += 1: For each word in the list, this line creates a bigram by combining the current word with the next word (words[i+1]). It increments the count of this bigram in the word_used2 dictionary.\n",
    "\n",
    "next_word2[word+' '+words[i+1]][words[i+2]] += 1: This line updates the next_word2 dictionary by incrementing the count of the word that follows the bigram formed by the current word and the next word (words[i+2]).\n",
    "In summary, this code is building a frequency model for a Markov chain where the state is defined by pairs of consecutive words (bigrams). It tracks how often each bigram occurs and what word is likely to follow a given bigram. This kind of model can be used for generating text or analyzing word sequences based on observed patterns."
   ]
  },
  {
   "cell_type": "code",
   "execution_count": null,
   "id": "b3d1900c",
   "metadata": {},
   "outputs": [],
   "source": [
    "# Q5-2\n",
    "#To keep track of the count of bigrams\n",
    "word_used2 = defaultdict(int)\n",
    "\n",
    "#To keep track of the counts of words that follow each bigram\n",
    "next_word2 = defaultdict(lambda: defaultdict(int))\n",
    "\n",
    "#To iterate over the list of words while avoiding the last two words\n",
    "for i,word in enumerate(words[:-2]):\n",
    "\n",
    "#To count how many times each bigram appears in the text   \n",
    "    word_used2[word+' '+words[i+1]] += 1\n",
    "#To count how many times each word follows a specific bigram\n",
    "    next_word2[word+' '+words[i+1]][words[i+2]] += 1 "
   ]
  },
  {
   "cell_type": "markdown",
   "id": "d3d8e0ca",
   "metadata": {},
   "source": [
    "# Interaction Summary:\n",
    "Initial Inquiry:\n",
    "You provided a Python code snippet related to a Markovian chatbot extension and asked for an explanation of its functionality.\n",
    "The code snippet was:"
   ]
  },
  {
   "cell_type": "code",
   "execution_count": null,
   "id": "db7860c0",
   "metadata": {},
   "outputs": [],
   "source": [
    "word_used2 = defaultdict(int)\n",
    "next_word2 = defaultdict(lambda: defaultdict(int))\n",
    "for i,word in enumerate(words[:-2]):\n",
    "    word_used2[word+' '+words[i+1]] += 1\n",
    "    next_word2[word+' '+words[i+1]][words[i+2]] += 1\n"
   ]
  },
  {
   "cell_type": "markdown",
   "id": "27f0c77c",
   "metadata": {},
   "source": [
    "## Initial Explanation:\n",
    "I explained that the code is part of a Markov chain model for generating or analyzing text. Specifically:\n",
    "word_used2 stores the counts of bigrams (pairs of consecutive words).\n",
    "next_word2 stores the counts of words that follow each bigram.\n",
    "The loop iterates through a list of words, creating bigrams and counting their occurrences as well as the words that follow those bigrams.\n",
    "\n",
    "## Detailed Line-by-Line Breakdown:\n",
    "You requested a more detailed explanation of each line.\n",
    "I provided a step-by-step breakdown:\n",
    "word_used2 = defaultdict(int) initializes a dictionary to count bigrams.\n",
    "next_word2 = defaultdict(lambda: defaultdict(int)) initializes a nested dictionary to count words that follow bigrams.\n",
    "The for loop iterates over the words (excluding the last two), using the current word and the next word to form a bigram.\n",
    "word_used2[word + ' ' + words[i + 1]] += 1 counts how many times each bigram appears.\n",
    "next_word2[word + ' ' + words[i + 1]][words[i + 2]] += 1 tracks how many times each word follows a specific bigram."
   ]
  },
  {
   "cell_type": "markdown",
   "id": "25ead6d7",
   "metadata": {},
   "source": [
    "# Link\n",
    "https://chatgpt.com/share/66eba3ed-e37c-800f-b065-eff991dfc04d"
   ]
  },
  {
   "cell_type": "markdown",
   "id": "b7e8fc71",
   "metadata": {},
   "source": [
    "# Q3\n",
    "Key Components and Enhancements\n",
    "Imports and Dataset Preparation:\n",
    "Counter and defaultdict from the collections module are used to efficiently count occurrences and manage nested dictionaries.\n",
    "avatar.character.str.upper().str.replace(' ','.') processes a dataset column (avatar.character) by converting text to uppercase and replacing spaces with periods, then counts the occurrences of each unique processed value.\n",
    "\n",
    "Data Structures:\n",
    "nested_dict is a utility function to create deeply nested defaultdict structures.\n",
    "word_used2C and next_word2C are nested defaultdict objects designed to keep track of word transitions and their following words, segmented by characters.\n",
    "\n",
    "Processing Words and Characters:\n",
    "The code iterates through the words list (excluding the last two words to avoid index errors).\n",
    "For each word, it updates counts related to the character context.\n",
    "\n",
    "Word Counts and Transitions:\n",
    "word_used2C: Tracks occurrences of two-word sequences (bigrams) within the context of a character.\n",
    "It updates the count of occurrences for each bigram (two consecutive words) within a character's context.\n",
    "next_word2C: Tracks the next word following each bigram within the character context.\n",
    "For each bigram, it counts occurrences of the word that follows."
   ]
  },
  {
   "cell_type": "markdown",
   "id": "b969341d",
   "metadata": {},
   "source": [
    "# Summary of Exchanges:\n",
    "Original Markov Chain Code Explanation:\n",
    "You provided an initial Python code that implements a Markovian chatbot using word transitions. The code maintains two dictionaries: word_used for counting word occurrences and next_word for tracking which words follow each word in the sequence.\n",
    "I explained the code step by step, detailing how it builds a simple Markov chain model based on word sequences, and suggested minor improvements for clarity and efficiency.\n",
    "\n",
    "Extended Markov Chain Code Explanation:\n",
    "You shared an extended version of the code that uses character-specific Markov chains and bigrams (two-word sequences) instead of single words. The extension involves tracking word sequences within the context of different characters from a dataset (avatar.character).\n",
    "I provided a detailed breakdown of this code, explaining how it processes character data, constructs bigram counts, and tracks the following words within the character’s context using nested dictionaries (word_used2C and next_word2C).\n",
    "\n",
    "Concept Clarification: Character-Specific Markov Chains and Bigram Dependency:\n",
    "I clarified that the extended code creates character-specific Markov chains by separating word transitions based on the current character in the text. Additionally, the model uses bigrams (pairs of consecutive words) to provide more contextual depth in predicting the next word, rather than relying on single-word transitions as in the original code.\n",
    "\n",
    "Streamlined Code Summary:\n",
    "I provided a summarized version of the extended code along with comments, explaining how it builds and tracks bigram and next-word counts based on character contexts."
   ]
  },
  {
   "cell_type": "markdown",
   "id": "22419e31",
   "metadata": {},
   "source": [
    "# Link\n",
    "https://chatgpt.com/share/66eba4eb-5c54-800f-887e-521e3ea14d9a"
   ]
  },
  {
   "cell_type": "markdown",
   "id": "31a0066a",
   "metadata": {},
   "source": [
    "# 6. Report on your experience interacting with ChatBots to understand the Monte Hall problem and \"Markovian ChatBot\" code\n",
    "\n",
    "1. Discuss how quickly the ChatBot was able to be helpful for each of the above questions, and if so, how?<br><br>\n",
    "    \n",
    "2. Discuss whether or not interacting with ChatBot to try to figure things out was frustrating or unhelpful, and if so, how?<br><br>\n",
    "    \n",
    "3. Based on your experiences to date (e.g., including using ChatBots to troubleshoot coding errors in the previous homework), provide an overall assessment evaluating the usefulness of ChatBots as tools to help you understand code<br>"
   ]
  },
  {
   "cell_type": "markdown",
   "id": "857d6db7",
   "metadata": {},
   "source": [
    "## 1\n",
    "After I ask ChatBot a question, after a second or two of thought it can give me the answer I want. I think as long as we describe exactly what we want, it can understand what we mean and analyze it in the database to get the result we want."
   ]
  },
  {
   "cell_type": "markdown",
   "id": "dda54495",
   "metadata": {},
   "source": [
    "## 2\n",
    "In fact, there are definitely instances of frustration in interactions with ChatBot because you didn't get the results you wanted. Like the third bullet point of question 5, ChatBot couldn't understand what extension 2 was doing without any prompting on my part. In this case, we need to ask more precise questions, describe the problem in more detail, or give it some hints to lead it to what we want."
   ]
  },
  {
   "cell_type": "markdown",
   "id": "88308429",
   "metadata": {},
   "source": [
    "## 3\n",
    "The ChatBot was actually very useful as a tool to help me understand the code. First of all but I come across a situation where I need to code, it helps me to code and a colleague tells me the purpose of writing each line. Second, if I give him a string of code, it can help me analyze what each line of code does and how the code works. At the same time, it can check for incorrect coding. If I have a bad code, send it to the ChatBot and it will tell me the correct code. Finally, it helps me simplify the code by making it simpler and clearer to look at."
   ]
  },
  {
   "cell_type": "markdown",
   "id": "4642d6c2",
   "metadata": {},
   "source": [
    "#### 7. Reflect on your experience interacting with ChatBot and describe how your perception of AI-driven assistance tools in the context of learning coding, statistics, and data science has been evolving (or not) since joining the course<br><br>\n",
    "\n",
    "<details class=\"details-example\"><summary style=\"color:blue\"><u>Further Guidance</u></summary>\n",
    "    \n",
    "> _Question \"7\" and the next question \"8\" are somewhat related to the first bullet point in the suggested interactions of the \"Afterword\" to the Homework from last week... consider reviewing that if you'd like a little extra orienting around what these questions are trying to have you explore_\n",
    "   \n",
    "</details>"
   ]
  },
  {
   "cell_type": "markdown",
   "id": "c498a708",
   "metadata": {},
   "source": [
    "In fact, until I learned STA130, I rarely used ChatBot to aid in my studies. But after I started learning STA130 and started communicating with ChatBot through, my opinion of ChatBot changed dramatically. I think it helps us learn code and statistics in three ways. First of all it can help me grasp topics I won't more effectively by explaining complex concepts in simple terms. Secondly it makes it easy to explore related concepts or delve into areas of interest to promote a more comprehensive understanding. Finally, AI can help debug code and provide suggestions that allow learners to practice and apply their knowledge effectively. \n",
    "But I don't think we can over-rely on AI. We need to think independently first otherwise AI can hinder the development of people's learning skills and critical thinking. At the same time, good AI assistance cannot be achieved without people asking them precise questions and guiding them. So after using AI, I think it is very versatile but we can't rely on it too much without people's guidance."
   ]
  },
  {
   "cell_type": "markdown",
   "id": "500f440e",
   "metadata": {},
   "source": [
    "#### 8. ChatBots consume text data available on the web or platforms, and thus represents a new way to \"search consensensus\" that condenses and summarizes mainstream human thought<br><br>\n",
    "\n",
    "1. Start a new ChatBot session and discuss the relevance of learning and adaptability, communication, coding, and statistics and data analysis as skills in the modern world, especially with respect to career opportunities (particularly in the context of the data science industry)<br><br>\n",
    "    \n",
    "2. See if ChatBot thinks you could be a statistician or data scientist without coding or doing data analysis, and then transition your ChatBot conversation into a career exploration discussion, using the ChatBot to identify the skills that might be the most valuable for a career that you're interested<br><br>\n",
    "    \n",
    "3. Ask for a summary of this ChatBot session and paste it into your homework notebook (including link(s) to chat log histories if you're using ChatBot)<br><br>\n",
    "    \n",
    "4. Paraphrase the assessments and conclusions of your conversation in the form of a reflection on your current thoughts regarding your potential future career(s) and how you can go about building the skills you need to pursue it<br><br>\n",
    "\n",
    "5. Give your thoughts regarding the helpfulness or limitations of your conversation with a ChatBot, and describe the next steps you would take to pursue this conversation further if you felt the information the ChatBot provides was somewhat high level and general, and perhaps lacked the depth and detailed knowledge of a dedicated subject matter expert who had really take the time to understand the ins and outs of the industry and career path in question.\n",
    "<br><br>\n",
    "\n",
    "<details class=\"details-example\"><summary style=\"color:blue\"><u>Further Guidance</u></summary>\n",
    "\n",
    "> _While question 8 is not a part of the rubric, it is nonetheless a very good exercise that will likely be valuable for you if you engage it them sincerely_\n",
    "    \n",
    "</details>\n"
   ]
  },
  {
   "cell_type": "markdown",
   "id": "67503476",
   "metadata": {},
   "source": [
    "# Question 8-1\n",
    "1. Learning and Adaptability\n",
    "Continuous Learning: The data science field is characterized by rapid technological advancements and evolving tools. Professionals need to stay updated with the latest algorithms, programming languages, and frameworks.\n",
    "Adaptability to Change: The ability to pivot in response to new challenges or shifts in technology is crucial. Organizations often face changing data landscapes, and adaptable employees can navigate these shifts effectively, ensuring business continuity and innovation.\n",
    "2. Communication\n",
    "Translating Data Insights: Data scientists must communicate complex findings to stakeholders who may not have a technical background. Effective communication ensures that data-driven insights are understood and acted upon.\n",
    "Collaboration: Data science often involves cross-functional teams. Strong communication skills foster collaboration between data scientists, engineers, and business leaders, enhancing project outcomes and driving strategic decisions.\n",
    "3. Coding\n",
    "Technical Proficiency: Coding is fundamental in data science for data manipulation, analysis, and building algorithms. Proficiency in languages like Python and R is often a prerequisite for roles in this field.\n",
    "Automation and Efficiency: Coding allows data scientists to automate repetitive tasks, increasing efficiency and freeing up time for more complex analyses and creative problem-solving.\n",
    "4. Statistics and Data Analysis\n",
    "Foundation of Data Science: A solid understanding of statistics is essential for interpreting data accurately, conducting hypothesis testing, and drawing valid conclusions from analyses.\n",
    "Informed Decision-Making: Businesses rely on data-driven decisions. Skills in data analysis enable professionals to uncover trends, make predictions, and inform strategic initiatives, making them invaluable to organizations.\n",
    "\n",
    "Career Opportunities in Data Science\n",
    "The convergence of these skills creates a robust foundation for a successful career in data science. Opportunities abound in various sectors, including finance, healthcare, technology, and marketing. Here are some potential career paths:\n",
    "\n",
    "Data Analyst: Focuses on interpreting and analyzing data to inform business decisions.\n",
    "Data Scientist: Combines statistical analysis, machine learning, and programming to extract insights from data.\n",
    "Machine Learning Engineer: Specializes in building algorithms and predictive models that enhance data applications.\n",
    "Business Intelligence Analyst: Translates data findings into actionable business strategies, often using data visualization tools.\n",
    "Quantitative Analyst: Applies mathematical models to financial data to inform investment strategies."
   ]
  },
  {
   "cell_type": "markdown",
   "id": "269ee291",
   "metadata": {},
   "source": [
    "# Question 8-2\n",
    "Theoretically, without coding skills or doing data analysis can enter the field of data scientist but it will significant limit the effectiveness and career advancement. So coding is necessary for data manipulation, automation, and implementing algorithms. And data analysis is essential for interpreting results and making informed decisions based on data. If I want to focus on financial analysis in the future, the most valuable skill is financial modeling. This involves creating representations of a company's financial performance, allowing analysts to project future earnings, assess risks, and make investment recommendations. Proficiency in Excel and a solid understanding of financial statements are crucial here, along with the ability to analyze trends and interpret financial data.\n",
    "\n"
   ]
  },
  {
   "cell_type": "markdown",
   "id": "d91911ee",
   "metadata": {},
   "source": [
    "# Question 8-3\n",
    "## Summary of Exchanges:\n",
    "Relevance of Skills in the Modern World (Data Science Industry):\n",
    "We discussed the importance of four key skills in the modern world, particularly in the context of data science:\n",
    "Learning and Adaptability: Essential for staying relevant in a rapidly evolving field with new tools and technologies.\n",
    "Communication: Crucial for conveying data insights to various stakeholders, including those without technical backgrounds.\n",
    "Coding: Central to data science for tasks such as data manipulation, model building, and automation. Proficiency in languages like Python and R is often required.\n",
    "Statistics and Data Analysis: Fundamental for interpreting data and drawing meaningful conclusions, forming the basis of most data science methodologies.\n",
    "Career in Data Science Without Coding or Data Analysis:\n",
    "We explored the feasibility of pursuing a career as a statistician or data scientist without engaging in coding or data analysis.\n",
    "For statisticians, data analysis is central to their role, and while coding may not always be extensive, modern practices often require it.\n",
    "For data scientists, coding and data analysis are integral to the role, making it challenging to work effectively without these skills.\n",
    "Alternative Roles:\n",
    "If avoiding coding and data analysis, alternative roles in data analytics or business intelligence might be suitable. These roles often use tools like Tableau or Power BI and may require less programming but still need an understanding of data.\n",
    "Skills for Financial Analysts:\n",
    "We discussed the most valuable skills for a financial analyst:\n",
    "Analytical and Quantitative Skills: Crucial for interpreting financial data, building models, and forecasting.\n",
    "Excel Proficiency: Essential for financial modeling and analysis.\n",
    "Understanding Financial Statements: Important for assessing financial health and performance.\n",
    "Knowledge of Financial Markets and Instruments: Helps in evaluating investment opportunities.\n",
    "Communication Skills: Necessary for presenting findings and recommendations clearly.\n",
    "Attention to Detail: Ensures accuracy in data analysis.\n",
    "Technical Skills: Familiarity with financial software and possibly programming languages like SQL or Python can be beneficial.\n",
    "Industry Knowledge: Provides context for financial analysis."
   ]
  },
  {
   "cell_type": "markdown",
   "id": "b8719500",
   "metadata": {},
   "source": [
    "# Link\n",
    "https://chatgpt.com/share/66eb64a1-b42c-800f-965e-82c518272dd9"
   ]
  },
  {
   "cell_type": "markdown",
   "id": "52c95be3",
   "metadata": {},
   "source": [
    "# Question 8-4\n",
    "In the future, I would like to work as financial analyst. I think if I want to keep on this career, I need to develop the skill of coding and data analysis. In addition, I need to learn how to make models to represent companies's data like earing, asscss risks and make investment recommendations. To train skills I mention before, I need to go to the class of stastics and computer science to learn the basic skills of coding and data analysis. In addition, I also need to go to the financial and economic class to learn skills of evlation of financial risks."
   ]
  },
  {
   "cell_type": "markdown",
   "id": "adb2d606",
   "metadata": {},
   "source": [
    "# Question 8-5\n",
    "Regarding to the helpfulness and limitation of ChatBot, I think the ChatBot can display most information I want. If I want to take to pursue this conversation further, I need to give more accurate information to let the ChatBot understand my request better."
   ]
  },
  {
   "cell_type": "markdown",
   "id": "b489452e",
   "metadata": {},
   "source": [
    "#### 9. Have you reviewed the course [wiki-textbook](https://github.com/pointOfive/stat130chat130/wiki) and interacted with a ChatBot (or, if that wasn't sufficient, real people in the course piazza discussion board or TA office hours) to help you understand all the material in the tutorial and lecture that you didn't quite follow when you first saw it?<br><br>\n",
    "  \n",
    "<details class=\"details-example\"><summary style=\"color:blue\"><u>Further Guidance</u></summary>\n",
    "    \n",
    "> _Just answering \"Yes\" or \"No\" or \"Somewhat\" or \"Mostly\" or whatever here is fine as this question isn't a part of the rubric; but, the midterm and final exams may ask questions that are based on the tutorial and lecture materials; and, your own skills will be limited by your familiarity with these materials (which will determine your ability to actually do actual things effectively with these skills... like the course project...)_\n",
    "    \n",
    "</details>"
   ]
  },
  {
   "cell_type": "code",
   "execution_count": null,
   "id": "16f95257fb4fda6c",
   "metadata": {},
   "outputs": [],
   "source": [
    "# Markovian Chatbot\n",
    "# from collections import defaultdict\n",
    "word_used = dict() # defaultdict(int)\n",
    "next_word = dict() # defaultdict(lambda: defaultdict(int))\n",
    "for i,word in enumerate(words[:-1]):\n",
    "    if word in word_used:\n",
    "        word_used[word] += 1\n",
    "    else:\n",
    "        word_used[word] = 1\n",
    "        next_word[word] = {}\n",
    "    if words[i+1] in next_word[word]:\n",
    "        next_word[word][words[i+1]] += 1\n",
    "    else:\n",
    "        next_word[word][words[i+1]] = 1"
   ]
  },
  {
   "cell_type": "code",
   "execution_count": null,
   "id": "bd0e5d2163411e8e",
   "metadata": {},
   "outputs": [],
   "source": [
    "# Markovian Chatbot Extension #1\n",
    "\n",
    "word_used2 = defaultdict(int)\n",
    "next_word2 = defaultdict(lambda: defaultdict(int))\n",
    "for i,word in enumerate(words[:-2]):\n",
    "    word_used2[word+' '+words[i+1]] += 1\n",
    "    next_word2[word+' '+words[i+1]][words[i+2]] += 1 "
   ]
  },
  {
   "cell_type": "code",
   "execution_count": null,
   "id": "33fe616edecddb60",
   "metadata": {},
   "outputs": [],
   "source": [
    "# Markovian Chatbot Extension #2\n",
    "\n",
    "from collections import Counter, defaultdict\n",
    "# `avatar` is a dataset, and `character` is one of it's columns\n",
    "characters = Counter(\"\\n\"+ avatar.character.str.upper().str.replace(' ','.')+\":\")\n",
    "# this code changes the type of the `character` column to `str`; then,\n",
    "# makes the text uppercase, and replaces spaces with '.'\n",
    "\n",
    "nested_dict = lambda: defaultdict(nested_dict)\n",
    "word_used2C = nested_dict()\n",
    "next_word2C = nested_dict()\n",
    "\n",
    "for i,word in enumerate(words[:-2]):\n",
    "    if word in characters:\n",
    "        character = word\n",
    "        \n",
    "    if character not in word_used2C:\n",
    "        word_used2C[character] = dict()\n",
    "    if word+' '+words[i+1] not in word_used2C[character]:\n",
    "        word_used2C[character][word+' '+words[i+1]] = 0\n",
    "    word_used2C[character][word+' '+words[i+1]] += 1\n",
    "    \n",
    "    if character not in next_word2C:\n",
    "        next_word2C[character] = dict()\n",
    "    if word+' '+words[i+1] not in next_word2C[character]:\n",
    "        next_word2C[character][word+' '+words[i+1]] = dict()\n",
    "    if words[i+2] not in next_word2C[character][word+' '+words[i+1]]:\n",
    "        next_word2C[character][word+' '+words[i+1]][words[i+2]] = 0\n",
    "    next_word2C[character][word+' '+words[i+1]][words[i+2]] += 1"
   ]
  },
  {
   "cell_type": "markdown",
   "id": "1ebfa9b9",
   "metadata": {},
   "source": [
    "## Recommended Additional Useful Activities [Optional]\n",
    "\n",
    "The \"Ethical Profesionalism Considerations\" and \"Current Course Project Capability Level\" sections below **are not a part of the required homework assignment**; rather, they are regular weekly guides covering (a) relevant considerations regarding professional and ethical conduct, and (b) the analysis steps for the STA130 course project that are feasible at the current stage of the course <br><br>\n",
    "\n",
    "\n",
    "<details class=\"details-example\"><summary style=\"color:blue\"><u>Ethical Professionalism Considerations</u></summary>\n",
    "\n",
    "### Ethical Professionalism Considerations\n",
    "\n",
    "    \n",
    "> 1. If you've not heard of the \"reproducibility crisis\" in science, have a ChatBot explain it to you\n",
    "> 2. If you've not heard of the \"open source software\" (versus proprietary software), have a ChatBot explain it to you\n",
    "> 3. \"Reproducibility\" can also be considered at the level of a given data analysis project: can others replicate the results of code or analysis that you've done?\n",
    ">    1. Discuss with a ChatBot how jupyter notebooks and github can be used facilitate transparency and reproducibility in data analysis\n",
    "> 4. Discuss with a ChatBot what the distinction is between replicability of scientific experiments, versus the replicability of a specific data analysis project, and what your responsibility as an analyst should be with respect to both\n",
    "> 5. Do you think proprietary (non \"open source software\") software, such as Microsoft Word, Outlook, and Copilot tends to result in high quality products?  \n",
    ">     1. Do you think software product monopolies (such as the UofT dependence on Microsoft products) makes the world a better place?\n",
    "</details>    \n",
    "\n",
    "<details class=\"details-example\"><summary style=\"color:blue\"><u>Current Course Project Capability Level</u></summary>\n",
    "\n",
    "### Current Course Project Capability Level\n",
    "   \n",
    "**Remember to abide by the [data use agreement](https://static1.squarespace.com/static/60283c2e174c122f8ebe0f39/t/6239c284d610f76fed5a2e69/1647952517436/Data+Use+Agreement+for+the+Canadian+Social+Connection+Survey.pdf) at all times.**\n",
    "\n",
    "Information about the course project is available on the course github repo [here](https://github.com/pointOfive/stat130chat130/tree/main/CP), including a draft [course project specfication](https://github.com/pointOfive/stat130chat130/blob/main/CP/STA130F23_course_project_specification.ipynb) (subject to change). \n",
    "- The Week 01 HW introduced [STA130F24_CourseProject.ipynb](https://github.com/pointOfive/stat130chat130/blob/main/CP/STA130F24_CourseProject.ipynb), and the [available variables](https://drive.google.com/file/d/1ISVymGn-WR1lcRs4psIym2N3or5onNBi/view). \n",
    "- Please do not download the [data](https://drive.google.com/file/d/1mbUQlMTrNYA7Ly5eImVRBn16Ehy9Lggo/view) accessible at the bottom of the [CSCS](https://casch.org/cscs) webpage (or the course github repo) multiple times.\n",
    "\n",
    "> At this point in the course you should be able to create a `for` loop to iterate through and provide **simple summaries** of some of the interesting columns in the course project data\n",
    ">\n",
    "> 1. Create two versions of the code, one for numeric and the other for categorical data,  which provide a printout format that displays relavent summaries and the missing data counts for a given set of (either numerical or categorical) columns being examined\n",
    ">\n",
    "> 2. Combine the two separate `for` loops into a single `for` loop using an `if`/`else` **conditional logic structure** that determines the correct printout format based on the data type of the column under consideration  \n",
    ">     1. *Being able to transform existing code so it's \"resuable\" for different purposes is one version of the programming design principle of \"polymorphism\" (which means \"many forms\" or \"many uses\") [as in the first task above]*\n",
    ">     2. *A better version of the programming design principle of \"polymorphism\" is when the same code can handle different use cases [as in the second tast above]*\n",
    ">     3. *Being able run your code with different subsets of columns as interest in different variables changes is a final form of the programming design principle of \"polymorphism\" that's demonstrated through this exercise*   \n",
    "    \n",
    "</details>        "
   ]
  }
 ],
 "metadata": {
  "kernelspec": {
   "display_name": "Python 3 (ipykernel)",
   "language": "python",
   "name": "python3"
  },
  "language_info": {
   "codemirror_mode": {
    "name": "ipython",
    "version": 3
   },
   "file_extension": ".py",
   "mimetype": "text/x-python",
   "name": "python",
   "nbconvert_exporter": "python",
   "pygments_lexer": "ipython3",
   "version": "3.11.6"
  }
 },
 "nbformat": 4,
 "nbformat_minor": 5
}
